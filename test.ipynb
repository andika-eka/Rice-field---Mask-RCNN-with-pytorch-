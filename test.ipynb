{
 "cells": [
  {
   "cell_type": "code",
   "execution_count": 4,
   "metadata": {},
   "outputs": [],
   "source": [
    "import random\n",
    "from torchvision.models.detection.faster_rcnn import FastRCNNPredictor\n",
    "import numpy as np\n",
    "import torch.utils.data\n",
    "import cv2\n",
    "import torchvision.models.segmentation\n",
    "import torch\n",
    "import os\n",
    "batchSize=1\n",
    "imageSize=[512,512]"
   ]
  },
  {
   "cell_type": "code",
   "execution_count": 2,
   "metadata": {},
   "outputs": [
    {
     "name": "stdout",
     "output_type": "stream",
     "text": [
      "0.14.0\n",
      "1.13.0\n"
     ]
    }
   ],
   "source": [
    "print(torchvision.__version__)\n",
    "print(torch.__version__)"
   ]
  },
  {
   "cell_type": "code",
   "execution_count": 7,
   "metadata": {},
   "outputs": [],
   "source": [
    "gpu = torch.device(\"cuda\")\n",
    "cpu = torch.device(\"cpu\")"
   ]
  },
  {
   "cell_type": "code",
   "execution_count": 14,
   "metadata": {},
   "outputs": [],
   "source": [
    "import os\n",
    "import shutil\n",
    "def demo(path):\n",
    "    img = [path+\"/sample/\"+img for img in os.listdir(path+\"/sample/\")]\n",
    "    images=cv2.imread(img[0])\n",
    "    images = cv2.resize(images, imageSize, cv2.INTER_LINEAR)\n",
    "    images = torch.as_tensor(images, dtype=torch.float32).unsqueeze(0)\n",
    "    images=images.swapaxes(1, 3).swapaxes(2, 3)\n",
    "    images = list(image.to(gpu) for image in images)\n",
    "    \n",
    "    model_dir = path+\"/result/model\"\n",
    "    output_image = path+\"/result/test/\"\n",
    "    \n",
    "    if os.path.exists(output_image):\n",
    "        shutil.rmtree(output_image)\n",
    "\n",
    "    os.mkdir(output_image)\n",
    "    for model_path in os.listdir(model_dir):\n",
    "        model=torchvision.models.detection.maskrcnn_resnet50_fpn(pretrained=True) \n",
    "        in_features = model.roi_heads.box_predictor.cls_score.in_features \n",
    "        model.roi_heads.box_predictor=FastRCNNPredictor(in_features,num_classes=2)\n",
    "        model.load_state_dict(torch.load(os.path.join(model_dir, model_path)))\n",
    "        model.to(gpu)# move model to the right device\n",
    "        model.eval()\n",
    "\n",
    "        with torch.no_grad():\n",
    "            pred = model(images)\n",
    "        im= images[0].swapaxes(0, 2).swapaxes(0, 1).detach().cpu().numpy().astype(np.uint8)\n",
    "        im2 = im.copy()\n",
    "        for i in range(len(pred[0]['masks'])):\n",
    "            msk=pred[0]['masks'][i,0].detach().cpu().numpy()\n",
    "            scr=pred[0]['scores'][i].detach().cpu().numpy()\n",
    "            if scr>0.8 :\n",
    "                im2[:,:,0][msk>0.5] = random.randint(0,255)\n",
    "                im2[:, :, 1][msk > 0.5] = random.randint(0,255)\n",
    "                im2[:, :, 2][msk > 0.5] = random.randint(0, 255)\n",
    "        # cv2.imshow(str(scr), np.hstack([im,im2])\n",
    "        cv2.imwrite(os.path.join(output_image,model_path.replace(\".torch\", \".png\")), im2)\n",
    "    "
   ]
  },
  {
   "cell_type": "code",
   "execution_count": null,
   "metadata": {},
   "outputs": [],
   "source": [
    "import os\n",
    "import shutil\n",
    "from torchvision.models.detection import maskrcnn_resnet50_fpn_v2, MaskRCNN_ResNet50_FPN_Weights\n",
    "def demoV2(path):\n",
    "    img = [path+\"/sample/\"+img for img in os.listdir(path+\"/sample/\")]\n",
    "    images=cv2.imread(img[0])\n",
    "    images = cv2.resize(images, imageSize, cv2.INTER_LINEAR)\n",
    "    images = torch.as_tensor(images, dtype=torch.float32).unsqueeze(0)\n",
    "    images=images.swapaxes(1, 3).swapaxes(2, 3)\n",
    "    images = list(image.to(gpu) for image in images)\n",
    "    \n",
    "    model_dir = path+\"/result/modelV2\"\n",
    "    output_image = path+\"/result/testV2/\"\n",
    "    \n",
    "    if os.path.exists(output_image):\n",
    "        shutil.rmtree(output_image)\n",
    "\n",
    "    os.mkdir(output_image)\n",
    "    for model_path in os.listdir(model_dir):\n",
    "        model=torchvision.models.detection.maskrcnn_resnet50_fpn_v2(pretrained=True) \n",
    "        in_features = model.roi_heads.box_predictor.cls_score.in_features \n",
    "        model.roi_heads.box_predictor=FastRCNNPredictor(in_features,num_classes=2)\n",
    "        model.load_state_dict(torch.load(os.path.join(model_dir, model_path)))\n",
    "        model.to(gpu)# move model to the right device\n",
    "        model.eval()\n",
    "\n",
    "        with torch.no_grad():\n",
    "            pred = model(images)\n",
    "        im= images[0].swapaxes(0, 2).swapaxes(0, 1).detach().cpu().numpy().astype(np.uint8)\n",
    "        im2 = im.copy()\n",
    "        for i in range(len(pred[0]['masks'])):\n",
    "            msk=pred[0]['masks'][i,0].detach().cpu().numpy()\n",
    "            scr=pred[0]['scores'][i].detach().cpu().numpy()\n",
    "            if scr>0.8 :\n",
    "                im2[:,:,0][msk>0.5] = random.randint(0,255)\n",
    "                im2[:, :, 1][msk > 0.5] = random.randint(0,255)\n",
    "                im2[:, :, 2][msk > 0.5] = random.randint(0, 255)\n",
    "        # cv2.imshow(str(scr), np.hstack([im,im2])\n",
    "        cv2.imwrite(os.path.join(output_image,model_path.replace(\".torch\", \".png\")), im2)\n",
    "    "
   ]
  },
  {
   "cell_type": "code",
   "execution_count": 16,
   "metadata": {},
   "outputs": [],
   "source": [
    "data_dir = [\"resize_128\"]\n",
    "\n"
   ]
  },
  {
   "cell_type": "code",
   "execution_count": 18,
   "metadata": {},
   "outputs": [],
   "source": [
    "demo(data_dir[0])"
   ]
  },
  {
   "cell_type": "code",
   "execution_count": null,
   "metadata": {},
   "outputs": [],
   "source": [
    "demoV2(data_dir[0])"
   ]
  }
 ],
 "metadata": {
  "kernelspec": {
   "display_name": "Python 3",
   "language": "python",
   "name": "python3"
  },
  "language_info": {
   "codemirror_mode": {
    "name": "ipython",
    "version": 3
   },
   "file_extension": ".py",
   "mimetype": "text/x-python",
   "name": "python",
   "nbconvert_exporter": "python",
   "pygments_lexer": "ipython3",
   "version": "3.7.16"
  },
  "orig_nbformat": 4,
  "vscode": {
   "interpreter": {
    "hash": "e4525b0e4e49659477bff12adecf1530247869591c722f642676ae21d2312cce"
   }
  }
 },
 "nbformat": 4,
 "nbformat_minor": 2
}
